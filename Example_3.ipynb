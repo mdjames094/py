{
 "cells": [
  {
   "cell_type": "markdown",
   "id": "e3478eb5-754c-4c12-ac58-946cae5b8e84",
   "metadata": {},
   "source": [
    "# Sensitivy of HL size "
   ]
  },
  {
   "cell_type": "code",
   "execution_count": null,
   "id": "e2eb1726-8230-4699-939c-418af9ae13db",
   "metadata": {},
   "outputs": [],
   "source": [
    "%run lib/imports.ipynb\n",
    "%run lib/functions.ipynb\n",
    "%run lib/optimisers.ipynb\n",
    "%run lib/batch.ipynb\n",
    "%run lib/layers.ipynb\n",
    "%run lib/network.ipynb"
   ]
  },
  {
   "cell_type": "code",
   "execution_count": null,
   "id": "74712d8f-be03-43a9-9fff-fa57bb073dfd",
   "metadata": {},
   "outputs": [],
   "source": [
    "# Generate data samples\n",
    "\n",
    "import sklearn.datasets\n",
    "np.random.seed(0)\n",
    "X, y = sklearn.datasets.make_moons(200, noise=.2)\n",
    "fig = plt.figure(figsize=(6.7,5))\n",
    "plt.scatter(X[:,0], X[:, 1], s=40, c=y, cmap=plt.cm.Spectral)\n",
    "\n",
    "x_train = X.T\n",
    "y_train = one_hot(y)\n",
    "y_train = y_train.T"
   ]
  },
  {
   "cell_type": "code",
   "execution_count": null,
   "id": "b17f538d-7654-4332-beba-2df39bbb3a8e",
   "metadata": {},
   "outputs": [],
   "source": [
    "for n in [1, 3, 10, 50]:\n",
    "    nn = Network(loss = LLayer(centropy, centropy_prime), optimiser = SGD(), iterator = BatchIterator(size=64))\n",
    "    nn.add(ZLayer(2, n, eps_W=1/np.sqrt(2)))\n",
    "    nn.add(ALayer(tanh, tanh_prime))\n",
    "    nn.add(ZLayer(n, 2, eps_W=1/np.sqrt(n)))\n",
    "    nn.add(SLayer(softmax, softmax_prime))\n",
    "\n",
    "    nn.fit(x_train, y_train, 10_000, 0)\n",
    "\n",
    "    print('training accuracy: %.3f' % nn.accuracy(x_train, y))\n",
    "    nn.performance_plot()\n",
    "    nn.boundary_plot(x_train, y)\n",
    "print('done.')"
   ]
  }
 ],
 "metadata": {
  "kernelspec": {
   "display_name": "Python3 (tmp)",
   "language": "python",
   "name": "tmp_env"
  },
  "language_info": {
   "codemirror_mode": {
    "name": "ipython",
    "version": 3
   },
   "file_extension": ".py",
   "mimetype": "text/x-python",
   "name": "python",
   "nbconvert_exporter": "python",
   "pygments_lexer": "ipython3",
   "version": "3.11.0"
  }
 },
 "nbformat": 4,
 "nbformat_minor": 5
}
