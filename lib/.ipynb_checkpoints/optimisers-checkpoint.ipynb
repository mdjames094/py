{
 "cells": [
  {
   "cell_type": "code",
   "execution_count": null,
   "id": "4bf07de0-2120-4a4b-a2f8-59a3cdd95acc",
   "metadata": {},
   "outputs": [],
   "source": [
    "class Optimiser():\n",
    "    def step(self, layers):\n",
    "        raise NotImplementedError\n",
    "        \n",
    "class SGD(Optimiser):\n",
    "    def lr(self, layer, epoch, epochs):\n",
    "        if len(layer.params) == 0 or layer.lr_type == None:\n",
    "            return\n",
    "        elif layer.lr_type.upper() == 'EXP':\n",
    "            k = 10 / epochs\n",
    "            layer.lr = layer.lr_initial * np.exp(-k * epoch)\n",
    "        elif layer.lr_type.upper() == 'DECAY':\n",
    "            decay = lr_initial / epochs\n",
    "            layer.lr = layer.lr_initial * 1 / (1 + decay * epoch)\n",
    "        elif layer.lr_type.upper() == 'STEP':\n",
    "            drop_rate = .8\n",
    "            epochs_drop = .1 * epochs\n",
    "            layer.lr = layer.lr_initial * np.power(drop_rate, np.floor(epoch / epochs_drop))\n",
    "            \n",
    "    def step(self, layer):\n",
    "        if len(layer.params) > 0:\n",
    "            for name, param in layer.params.items():\n",
    "                param -= layer.lr * layer.grads[name]\n",
    "                \n",
    "    def rg(self, layer):\n",
    "        if len(layer.params) == 0 or layer.rg == 0 or layer.rg_type == None:\n",
    "            return 0\n",
    "        elif layer.rg_type.upper() == 'L2':\n",
    "            W = layer.params['W']\n",
    "            return layer.rg * np.sum(np.square(W))\n",
    "        return 0"
   ]
  }
 ],
 "metadata": {
  "kernelspec": {
   "display_name": "Python3 (tmp)",
   "language": "python",
   "name": "tmp_env"
  },
  "language_info": {
   "codemirror_mode": {
    "name": "ipython",
    "version": 3
   },
   "file_extension": ".py",
   "mimetype": "text/x-python",
   "name": "python",
   "nbconvert_exporter": "python",
   "pygments_lexer": "ipython3",
   "version": "3.11.0"
  }
 },
 "nbformat": 4,
 "nbformat_minor": 5
}
