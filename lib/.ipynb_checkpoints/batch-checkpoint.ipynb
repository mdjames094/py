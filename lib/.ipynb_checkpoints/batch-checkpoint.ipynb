{
 "cells": [
  {
   "cell_type": "code",
   "execution_count": null,
   "id": "ab0914d9-cb07-4eca-847d-a8742bf68c41",
   "metadata": {},
   "outputs": [],
   "source": [
    "from collections import namedtuple\n",
    "\n",
    "Batch = namedtuple(\"Batch\", [\"x\", \"y\"])\n",
    "\n",
    "class DataIterator:\n",
    "    def __call__(self, x, y):\n",
    "        raise NotImplementedError\n",
    "\n",
    "class BatchIterator(DataIterator):\n",
    "    def __init__(self, size=None, shuffle=True):\n",
    "        self.size = size\n",
    "        self.shuffle = shuffle\n",
    "        \n",
    "    def __call__(self, x, y):\n",
    "        lenX = x.shape[1]\n",
    "        if self.size == None or self.size > lenX:\n",
    "            yield Batch(x, y)\n",
    "        else :\n",
    "            if self.shuffle:\n",
    "                idx = np.random.permutation((lenX))\n",
    "            for start in range(0, lenX - self.size + 1, self.size):\n",
    "                if self.shuffle:\n",
    "                    batch = idx[start:start + self.size]\n",
    "                else:\n",
    "                    batch = slice(start, start + self.size)\n",
    "                yield Batch(x[:, batch], y[:, batch])\n",
    "            \n",
    "    def shuffle(self, x, y):\n",
    "        starts = np.arange(0, x.shape[1], self.size)\n",
    "        if self.shuffle:\n",
    "            np.random.shuffle(starts)\n",
    "        for start in starts:\n",
    "            end = start + self.size\n",
    "            yield Batch(x[:, start:end], y[:, start:end])"
   ]
  }
 ],
 "metadata": {
  "kernelspec": {
   "display_name": "Python3 (tmp)",
   "language": "python",
   "name": "tmp_env"
  },
  "language_info": {
   "codemirror_mode": {
    "name": "ipython",
    "version": 3
   },
   "file_extension": ".py",
   "mimetype": "text/x-python",
   "name": "python",
   "nbconvert_exporter": "python",
   "pygments_lexer": "ipython3",
   "version": "3.11.0"
  }
 },
 "nbformat": 4,
 "nbformat_minor": 5
}
