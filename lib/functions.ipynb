{
 "cells": [
  {
   "cell_type": "code",
   "execution_count": null,
   "id": "5c5e9609-833d-4887-b8c9-b190786269fe",
   "metadata": {},
   "outputs": [],
   "source": [
    "def sigmoid(x):\n",
    "    return 1 / (1 + np.exp(-x))\n",
    "\n",
    "def sigmoid_prime(x):\n",
    "    return x * (1 - x)\n",
    "\n",
    "def tanh(x):\n",
    "    return np.tanh(x)\n",
    "\n",
    "def tanh_prime(x):\n",
    "    return 1-np.tanh(x)**2\n",
    "\n",
    "def relu(x):\n",
    "    return np.maximum(0, x)\n",
    "\n",
    "def relu_prime(x):\n",
    "    return (x > 0) * 1\n",
    "\n",
    "def softmax(x):\n",
    "    tmp = np.exp(x)\n",
    "    return tmp / np.sum(tmp, axis=0, keepdims=True)\n",
    "\n",
    "def softmax_prime(x):                     # X(n,m) : matrix of softmax probabilities, #n classes, #m samples \n",
    "    i = np.eye(x.shape[0])                # Identity matrix with n dimensions\n",
    "    tmp1 = np.einsum('ij,ik->jik', x, i)  # Matrix of diagolized softmax values (per m)\n",
    "    tmp2 = np.einsum('ij,kj->jik', x, x)  # Matrix of cross product of softmax values (per m)\n",
    "    return tmp1 - tmp2 \n",
    "\n",
    "def centropy(x, y):\n",
    "    eps = 1e-8\n",
    "    x = x.clip(min=eps, max=None)\n",
    "    logp = np.where(y==1, -np.log(x), 0)\n",
    "    return logp.sum(axis=0)\n",
    "\n",
    "def centropy_prime(x, y):\n",
    "    # Averaging is made by calling function\n",
    "    eps = 1e-8\n",
    "    x = x.clip(min=eps, max=None)\n",
    "    return np.where(y==1, -1/x, 0)\n",
    "\n",
    "def mse(y_pred, y_obs):\n",
    "    return np.power(y_pred - y_obs, 2)\n",
    "\n",
    "def mse_prime(y_pred, y_obs):\n",
    "    # Averaging is made by calling function\n",
    "    return 2*(y_pred - y_obs)\n",
    "\n",
    "def one_hot(y): \n",
    "    return np.eye(len(set(y)))[y]"
   ]
  }
 ],
 "metadata": {
  "kernelspec": {
   "display_name": "Python3 (tmp)",
   "language": "python",
   "name": "tmp_env"
  },
  "language_info": {
   "codemirror_mode": {
    "name": "ipython",
    "version": 3
   },
   "file_extension": ".py",
   "mimetype": "text/x-python",
   "name": "python",
   "nbconvert_exporter": "python",
   "pygments_lexer": "ipython3",
   "version": "3.11.0"
  }
 },
 "nbformat": 4,
 "nbformat_minor": 5
}
