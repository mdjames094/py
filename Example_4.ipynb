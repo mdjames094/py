{
 "cells": [
  {
   "cell_type": "markdown",
   "id": "d87ad556-071c-429d-9451-63b49381bfbd",
   "metadata": {
    "tags": []
   },
   "source": [
    "# Neural network data points belonging to three classes\n",
    "### https://www.cristiandima.com/neural-networks-from-scratch-in-python"
   ]
  },
  {
   "cell_type": "code",
   "execution_count": null,
   "id": "e2eb1726-8230-4699-939c-418af9ae13db",
   "metadata": {},
   "outputs": [],
   "source": [
    "%run lib/imports.ipynb\n",
    "%run lib/functions.ipynb\n",
    "%run lib/optimisers.ipynb\n",
    "%run lib/batch.ipynb\n",
    "%run lib/layers.ipynb\n",
    "%run lib/network.ipynb"
   ]
  },
  {
   "cell_type": "code",
   "execution_count": null,
   "id": "a5cabd40-167b-4ef2-9334-d610b220f3a5",
   "metadata": {},
   "outputs": [],
   "source": [
    "np.random.seed(1)\n",
    "\n",
    "# generate three Gaussian clouds each holding 500 points\n",
    "X1 = np.random.randn(500, 2) + np.array([0, -2])\n",
    "X2 = np.random.randn(500, 2) + np.array([2, 2])\n",
    "X3 = np.random.randn(500, 2) + np.array([-2, 2])\n",
    "\n",
    "# put them all in a big matrix\n",
    "X = np.vstack([X1, X2, X3])\n",
    "\n",
    "# generate the one-hot-encodings\n",
    "labels = np.array([0]*500 + [1]*500 + [2]*500)\n",
    "T = np.zeros((1500, 3))\n",
    "for i in range(1500):\n",
    "    T[i, labels[i]] = 1\n",
    "\n",
    "# visualize the data\n",
    "fig = plt.figure(figsize=(6.7,5))\n",
    "plt.scatter(X[:,0], X[:,1], c=labels, s=100, cmap=plt.cm.Spectral, alpha=0.5)\n",
    "plt.show()\n",
    "\n",
    "x_train = X.T\n",
    "y_train = T.T"
   ]
  },
  {
   "cell_type": "code",
   "execution_count": null,
   "id": "7ab93f94-7715-449e-bfdb-0190054cf57b",
   "metadata": {},
   "outputs": [],
   "source": [
    "nn = Network(loss = LLayer(centropy, centropy_prime), optimiser = SGD(alpha=1e-2), iterator = BatchIterator(size=None))\n",
    "nn.add(ZLayer(2, 5))\n",
    "nn.add(ALayer(tanh, tanh_prime))\n",
    "nn.add(ZLayer(5, 3))\n",
    "nn.add(SLayer(softmax, softmax_prime))\n",
    "\n",
    "nn.fit(x_train, y_train, 5_000, 1)\n",
    "\n",
    "print('training accuracy: %.3f' % nn.accuracy(x_train, labels))\n",
    "nn.performance_plot()\n",
    "nn.boundary_plot(x_train, labels)"
   ]
  }
 ],
 "metadata": {
  "kernelspec": {
   "display_name": "Python3 (tmp)",
   "language": "python",
   "name": "tmp_env"
  },
  "language_info": {
   "codemirror_mode": {
    "name": "ipython",
    "version": 3
   },
   "file_extension": ".py",
   "mimetype": "text/x-python",
   "name": "python",
   "nbconvert_exporter": "python",
   "pygments_lexer": "ipython3",
   "version": "3.11.0"
  }
 },
 "nbformat": 4,
 "nbformat_minor": 5
}
