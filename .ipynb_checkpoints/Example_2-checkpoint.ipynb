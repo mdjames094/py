{
 "cells": [
  {
   "cell_type": "markdown",
   "id": "45371783-0a1e-4ebd-bb12-819d914b6498",
   "metadata": {},
   "source": [
    "# XOR gate with 1 HL"
   ]
  },
  {
   "cell_type": "code",
   "execution_count": null,
   "id": "e2eb1726-8230-4699-939c-418af9ae13db",
   "metadata": {},
   "outputs": [],
   "source": [
    "%run lib/imports.ipynb\n",
    "%run lib/functions.ipynb\n",
    "%run lib/optimisers.ipynb\n",
    "%run lib/batch.ipynb\n",
    "%run lib/layers.ipynb\n",
    "%run lib/network.ipynb"
   ]
  },
  {
   "cell_type": "code",
   "execution_count": null,
   "id": "c91184b3-73de-4404-ab10-e4c6d7a4ac4d",
   "metadata": {},
   "outputs": [],
   "source": [
    "np.set_printoptions(precision=4)\n",
    "\n",
    "x_train = np.array([ [0, 0], [1, 0], [0, 1], [1, 1] ]).T\n",
    "y = np.array([0,1,1,0])\n",
    "y_train = one_hot(y).T\n",
    "\n",
    "nn = Network(loss = LLayer(mse, mse_prime), optimiser = SGD())\n",
    "nn.add(ZLayer(2, 2, eps_W=1.0, eps_B=1.0))\n",
    "nn.add(ALayer(tanh, tanh_prime))\n",
    "nn.add(ZLayer(2, 2, eps_W=1.0, eps_B=1.0))\n",
    "\n",
    "nn.fit(x_train, y_train, 5_000, 1)\n",
    "\n",
    "print('\\ntraining accuracy: %.3f' % nn.accuracy(x_train, y))\n",
    "nn.performance_plot()\n",
    "nn.boundary_plot(x_train, y)\n",
    "\n",
    "print('\\nXtrain\\tYpred\\t\\t\\tYtrain')\n",
    "predicted = nn.forward(x_train)\n",
    "predicted_01 = np.argmax(predicted, axis=0)\n",
    "for i in range(x_train.shape[1]):\n",
    "    print(x_train[:,i].T, '\\t', predicted[:,i].T, predicted_01[i], '\\t', y_train[:,i].T, y[i])"
   ]
  }
 ],
 "metadata": {
  "kernelspec": {
   "display_name": "Python3 (tmp)",
   "language": "python",
   "name": "tmp_env"
  },
  "language_info": {
   "codemirror_mode": {
    "name": "ipython",
    "version": 3
   },
   "file_extension": ".py",
   "mimetype": "text/x-python",
   "name": "python",
   "nbconvert_exporter": "python",
   "pygments_lexer": "ipython3",
   "version": "3.11.0"
  }
 },
 "nbformat": 4,
 "nbformat_minor": 5
}
