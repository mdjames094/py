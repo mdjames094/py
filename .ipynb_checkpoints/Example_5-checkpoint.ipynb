{
 "cells": [
  {
   "cell_type": "markdown",
   "id": "50205243-8ef4-4baf-a93e-b06d9cf4f581",
   "metadata": {},
   "source": [
    "# L2 regularization\n",
    "### https://github.com/Coding-Lane/L2-Regularization"
   ]
  },
  {
   "cell_type": "code",
   "execution_count": null,
   "id": "e2eb1726-8230-4699-939c-418af9ae13db",
   "metadata": {},
   "outputs": [],
   "source": [
    "%run lib/imports.ipynb\n",
    "%run lib/functions.ipynb\n",
    "%run lib/optimisers.ipynb\n",
    "%run lib/batch.ipynb\n",
    "%run lib/layers.ipynb\n",
    "%run lib/network.ipynb"
   ]
  },
  {
   "cell_type": "code",
   "execution_count": null,
   "id": "2f06ed48-7006-4bb6-88a7-cd483b905d1e",
   "metadata": {
    "tags": []
   },
   "outputs": [],
   "source": [
    "x_train = np.loadtxt('data/train_x.csv', delimiter = ',')\n",
    "y = np.loadtxt('data/train_y.csv', delimiter = ',').reshape(1, x_train.shape[1])\n",
    "y = y.reshape(y.shape[1]).astype(int)\n",
    "y_train = one_hot(y).T\n",
    "#y_train = y\n",
    "print(\"Shape of train_X : \", x_train.shape)\n",
    "print(\"Shape of train_Y : \", y_train.shape)\n",
    "np.set_printoptions(precision=4)\n",
    "\n",
    "nn = Network(loss = LLayer(centropy, centropy_prime))\n",
    "nn.add(ZLayer(2, 100, wInit='He', lr=.3, seed=3))\n",
    "nn.add(ALayer(relu, relu_prime))\n",
    "nn.add(ZLayer(100, 10, wInit='He', lr=.3, seed=3))\n",
    "nn.add(ALayer(relu, relu_prime))\n",
    "nn.add(ZLayer(10, 2, wInit='He', lr=.3, seed=3))\n",
    "nn.add(SLayer(softmax, softmax_prime))\n",
    "\n",
    "nn.fit(x_train, y_train, 10_000, 1)\n",
    "\n",
    "print('training accuracy: %.3f' % nn.accuracy(x_train, y))\n",
    "nn.performance_plot()\n",
    "nn.boundary_plot(x_train, y)"
   ]
  },
  {
   "cell_type": "code",
   "execution_count": null,
   "id": "077f3183-800c-49d8-8f74-5eb9086a6c77",
   "metadata": {},
   "outputs": [],
   "source": [
    "\n",
    "nn = Network(loss = LLayer(centropy, centropy_prime))\n",
    "nn.add(ZLayer(2, 100, wInit='He', lr=.3, seed=3, rg=.7))\n",
    "nn.add(ALayer(relu, relu_prime))\n",
    "nn.add(ZLayer(100, 10, wInit='He', lr=.3, seed=3, rg=.7))\n",
    "nn.add(ALayer(relu, relu_prime))\n",
    "nn.add(ZLayer(10, 2, wInit='He', lr=.3, seed=3, rg=.7))\n",
    "nn.add(SLayer(softmax, softmax_prime))\n",
    "\n",
    "nn.fit(x_train, y_train, 10_000, 1)\n",
    "\n",
    "print('training accuracy: %.3f' % nn.accuracy(x_train, y))\n",
    "nn.performance_plot()\n",
    "nn.boundary_plot(x_train, y)"
   ]
  }
 ],
 "metadata": {
  "kernelspec": {
   "display_name": "Python3 (tmp)",
   "language": "python",
   "name": "tmp_env"
  },
  "language_info": {
   "codemirror_mode": {
    "name": "ipython",
    "version": 3
   },
   "file_extension": ".py",
   "mimetype": "text/x-python",
   "name": "python",
   "nbconvert_exporter": "python",
   "pygments_lexer": "ipython3",
   "version": "3.11.0"
  }
 },
 "nbformat": 4,
 "nbformat_minor": 5
}
