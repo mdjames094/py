{
 "cells": [
  {
   "cell_type": "markdown",
   "id": "e40a3e6e-7454-48f4-9836-77ed6b418484",
   "metadata": {},
   "source": [
    "# 3 classes and 2 dimensions with 1 HL (Perceptron) and 2 HL (MLP)"
   ]
  },
  {
   "cell_type": "code",
   "execution_count": null,
   "id": "e2eb1726-8230-4699-939c-418af9ae13db",
   "metadata": {},
   "outputs": [],
   "source": [
    "%run lib/imports.ipynb\n",
    "%run lib/functions.ipynb\n",
    "%run lib/optimisers.ipynb\n",
    "%run lib/batch.ipynb\n",
    "%run lib/layers.ipynb\n",
    "%run lib/network.ipynb"
   ]
  },
  {
   "cell_type": "code",
   "execution_count": null,
   "id": "7bb8405a-601f-4514-81b8-88afe3a3e60f",
   "metadata": {},
   "outputs": [],
   "source": [
    "# Generate data samples\n",
    "\n",
    "np.random.seed(0)\n",
    "N = 100 # number of points per class\n",
    "D = 2 # dimensionality\n",
    "K = 3 # number of classes\n",
    "X = np.zeros((N*K,D))\n",
    "y = np.zeros(N*K, dtype='uint8')\n",
    "for j in range(K):\n",
    "  ix = range(N*j,N*(j+1))\n",
    "  r = np.linspace(0.0,1,N) # radius\n",
    "  t = np.linspace(j*4,(j+1)*4,N) + np.random.randn(N)*0.2 # theta\n",
    "  X[ix] = np.c_[r*np.sin(t), r*np.cos(t)]\n",
    "  y[ix] = j\n",
    "\n",
    "x_train = X.T\n",
    "y_train = one_hot(y)\n",
    "y_train = y_train.T"
   ]
  },
  {
   "cell_type": "code",
   "execution_count": null,
   "id": "d6bd8650",
   "metadata": {},
   "outputs": [],
   "source": [
    "# 1 HL\n",
    "\n",
    "nn = Network(loss = LLayer(centropy, centropy_prime), optimiser = SGD(), iterator = BatchIterator(size=64))\n",
    "nn.add(ZLayer(2, 3, wInit='Xavier', lr_type='exp'))\n",
    "nn.add(SLayer(softmax, softmax_prime))\n",
    "\n",
    "nn.fit(x_train, y_train, 100, 1)\n",
    "\n",
    "print('training accuracy: %.2f' % nn.accuracy(x_train, y))\n",
    "nn.performance_plot()\n",
    "nn.boundary_plot(x_train, y)"
   ]
  },
  {
   "cell_type": "code",
   "execution_count": null,
   "id": "ac303747-4f35-4d5e-9e13-b4cd2a1cabac",
   "metadata": {},
   "outputs": [],
   "source": [
    "# 2 HL\n",
    "\n",
    "nn = Network(loss = LLayer(centropy, centropy_prime), optimiser = SGD(), iterator = BatchIterator(size=64))\n",
    "nn.add(ZLayer(2, 100, wInit='He', lr_type='step', rg=.7, rg_type='L2'))\n",
    "nn.add(ALayer(relu, relu_prime))\n",
    "nn.add(ZLayer(100, 3))\n",
    "nn.add(SLayer(softmax, softmax_prime))\n",
    "\n",
    "nn.fit(x_train, y_train, 5_000, 1)\n",
    "\n",
    "print('training accuracy: %.3f' % nn.accuracy(x_train, y))\n",
    "nn.performance_plot()\n",
    "nn.boundary_plot(x_train, y)"
   ]
  }
 ],
 "metadata": {
  "kernelspec": {
   "display_name": "Python3 (tmp)",
   "language": "python",
   "name": "tmp_env"
  },
  "language_info": {
   "codemirror_mode": {
    "name": "ipython",
    "version": 3
   },
   "file_extension": ".py",
   "mimetype": "text/x-python",
   "name": "python",
   "nbconvert_exporter": "python",
   "pygments_lexer": "ipython3",
   "version": "3.11.0"
  }
 },
 "nbformat": 4,
 "nbformat_minor": 5
}
