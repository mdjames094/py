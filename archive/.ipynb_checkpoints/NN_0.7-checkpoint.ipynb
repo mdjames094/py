{
 "cells": [
  {
   "cell_type": "markdown",
   "id": "daacec85-8f9c-47be-800e-a4bdff2a489f",
   "metadata": {
    "tags": []
   },
   "source": [
    "# Import packages and set options"
   ]
  },
  {
   "cell_type": "code",
   "execution_count": null,
   "id": "57d40414",
   "metadata": {
    "jupyter": {
     "source_hidden": true
    },
    "tags": []
   },
   "outputs": [],
   "source": [
    "import numpy as np\n",
    "#from tqdm import tqdm\n",
    "import matplotlib.pyplot as plt\n",
    "\n",
    "%matplotlib inline\n",
    "plt.style.use('dark_background')\n",
    "plt.rcParams['figure.figsize'] = (10.0, 8.0)\n",
    "plt.rcParams['image.interpolation'] = 'nearest'\n",
    "plt.rcParams['image.cmap'] = 'gray'\n",
    "\n",
    "np.set_printoptions(precision=4)"
   ]
  },
  {
   "cell_type": "markdown",
   "id": "f9e33f26-78cf-400c-8136-bfab48f03257",
   "metadata": {},
   "source": [
    "# Activation and loss functions"
   ]
  },
  {
   "cell_type": "code",
   "execution_count": null,
   "id": "61a42a55",
   "metadata": {
    "jupyter": {
     "source_hidden": true
    },
    "tags": []
   },
   "outputs": [],
   "source": [
    "def sigmoid(x):\n",
    "    return 1 / (1 + np.exp(-x))\n",
    "\n",
    "def sigmoid_prime(x):\n",
    "    return x * (1 - x)\n",
    "\n",
    "def tanh(x):\n",
    "    return np.tanh(x)\n",
    "\n",
    "def tanh_prime(x):\n",
    "    return 1-np.tanh(x)**2\n",
    "\n",
    "def relu(x):\n",
    "    return np.maximum(0, x)\n",
    "\n",
    "def relu_prime(x):\n",
    "    return (x > 0) * 1\n",
    "\n",
    "def softmax(x):\n",
    "    tmp = np.exp(x)\n",
    "    return tmp / np.sum(tmp, axis=0, keepdims=True)\n",
    "\n",
    "def softmax_prime(x):                     # X(n,m) : matrix of softmax probabilities, #n classes, #m samples \n",
    "    i = np.eye(x.shape[0])                # Identity matrix with n dimensions\n",
    "    tmp1 = np.einsum('ij,ik->jik', x, i)  # Matrix of diagolized softmax values (per m)\n",
    "    tmp2 = np.einsum('ij,kj->jik', x, x)  # Matrix of cross product of softmax values (per m)\n",
    "    return tmp1 - tmp2 \n",
    "\n",
    "def centropy(x, y):\n",
    "    eps = 1e-8\n",
    "    x = x.clip(min=eps, max=None)\n",
    "    logp = np.where(y==1, -np.log(x), 0)\n",
    "    return logp.sum(axis=0)\n",
    "\n",
    "def centropy_prime(x, y):\n",
    "    # Averaging is made by calling function\n",
    "    eps = 1e-8\n",
    "    x = x.clip(min=eps, max=None)\n",
    "    return np.where(y==1, -1/x, 0)\n",
    "\n",
    "def mse(y_pred, y_obs):\n",
    "    return np.power(y_pred - y_obs, 2)\n",
    "\n",
    "def mse_prime(y_pred, y_obs):\n",
    "    # Averaging is made by calling function\n",
    "    return 2*(y_pred - y_obs)\n",
    "\n",
    "def one_hot(y): \n",
    "    return np.eye(len(set(y)))[y]"
   ]
  },
  {
   "cell_type": "markdown",
   "id": "6cb2a448-86c1-47d6-b75f-d1e56c47a1e2",
   "metadata": {},
   "source": [
    "# Layer(s) class"
   ]
  },
  {
   "cell_type": "code",
   "execution_count": null,
   "id": "6651a8dd",
   "metadata": {
    "jupyter": {
     "source_hidden": true
    },
    "tags": []
   },
   "outputs": [],
   "source": [
    "class Layer:\n",
    "    def __init__(self) -> None:\n",
    "        self.params = {}\n",
    "        self.grads = {}\n",
    "        self.lr = 0.0\n",
    "        self.lr_type = None\n",
    "        self.rg = 0.0\n",
    "        self.rg_type = None\n",
    "           \n",
    "    def forward(self, input_data):\n",
    "        raise NotImplementedError\n",
    "    \n",
    "    def backward(self, grad, alpha):\n",
    "        raise NotImplementedError\n",
    "        \n",
    "class ZLayer(Layer):\n",
    "    def __init__(self, inSize, outSize, eps_W=1e-2, eps_B=0.0, wInit='Xavier', seed=None, lr=.5, lr_type=None, rg=0.0, rg_type='L2'):\n",
    "        super().__init__()\n",
    "        if seed != None:\n",
    "            np.random.seed(seed)\n",
    "        if wInit.upper() == 'HE':\n",
    "            sigma = np.sqrt(2 / inSize)\n",
    "        else :\n",
    "            sigma = np.sqrt(2 / (inSize + outSize))\n",
    "        self.params['W'] = sigma * np.random.randn(outSize, inSize)\n",
    "        self.params['B'] = np.zeros((outSize, 1))\n",
    "        #print('W:\\n', self.params['W'][0][0:10], self.params['W'].shape)\n",
    "        self.lr = lr\n",
    "        self.lr_initial = lr\n",
    "        self.lr_type = lr_type\n",
    "        self.rg = rg\n",
    "        self.rg_type = rg_type\n",
    "        \n",
    "    def forward(self, inData):\n",
    "        self.input = inData\n",
    "        self.output = np.dot(self.params['W'], self.input) + self.params['B']\n",
    "        return self.output\n",
    "        \n",
    "    def backward(self, outGrad, alpha=1e-0):\n",
    "        inGrad = np.dot(self.params['W'].T, outGrad)\n",
    "        self.grads['W'] = np.dot(outGrad, self.input.T) + self.rg / outGrad.shape[1] * self.params['W']\n",
    "        self.grads['B'] = np.sum(outGrad, axis=1, keepdims=True)\n",
    "        return inGrad        \n",
    "    \n",
    "class ALayer(Layer):\n",
    "    def __init__(self, g, gPrime):\n",
    "        super().__init__()\n",
    "        self.g = g\n",
    "        self.gPrime = gPrime\n",
    "\n",
    "    def forward(self, inData):\n",
    "        self.input = inData\n",
    "        self.output = self.g(self.input)\n",
    "        return self.output\n",
    "\n",
    "    def backward(self, outGrad):\n",
    "        return self.gPrime(self.input) * outGrad\n",
    "\n",
    "class SLayer(ALayer):\n",
    "    def backward(self, outGrad):\n",
    "        return np.einsum('jik,kj->ij', self.gPrime(self.output), outGrad)\n",
    "    \n",
    "class LLayer(Layer):\n",
    "    def __init__(self, g, gPrime, eps=1e-8):\n",
    "        self.g = g\n",
    "        self.gPrime = gPrime\n",
    "        self.eps = eps\n",
    "\n",
    "    def forward(self, pred, obs):\n",
    "        self.input = pred\n",
    "        self.output = self.g(pred, obs)\n",
    "        return self.output\n",
    "\n",
    "    def backward(self, pred, obs):\n",
    "        return self.gPrime(pred, obs)    \n"
   ]
  },
  {
   "cell_type": "markdown",
   "id": "5f0d7ef7-5cdc-4f89-be49-b5b0044e4681",
   "metadata": {
    "tags": []
   },
   "source": [
    "# Optimiser class"
   ]
  },
  {
   "cell_type": "code",
   "execution_count": null,
   "id": "36924272-2c50-447b-ab06-494c38db5928",
   "metadata": {
    "jupyter": {
     "source_hidden": true
    },
    "tags": []
   },
   "outputs": [],
   "source": [
    "class Optimiser():\n",
    "    def step(self, layers):\n",
    "        raise NotImplementedError\n",
    "        \n",
    "class SGD(Optimiser):\n",
    "    def lr(self, layer, epoch, epochs):\n",
    "        if len(layer.params) == 0 or layer.lr_type == None:\n",
    "            return\n",
    "        elif layer.lr_type.upper() == 'EXP':\n",
    "            k = 10 / epochs\n",
    "            layer.lr = layer.lr_initial * np.exp(-k * epoch)\n",
    "        elif layer.lr_type.upper() == 'DECAY':\n",
    "            decay = lr_initial / epochs\n",
    "            layer.lr = layer.lr_initial * 1 / (1 + decay * epoch)\n",
    "        elif layer.lr_type.upper() == 'STEP':\n",
    "            drop_rate = .8\n",
    "            epochs_drop = .1 * epochs\n",
    "            layer.lr = layer.lr_initial * np.power(drop_rate, np.floor(epoch / epochs_drop))\n",
    "            \n",
    "    def step(self, layer):\n",
    "        if len(layer.params) > 0:\n",
    "            for name, param in layer.params.items():\n",
    "                param -= layer.lr * layer.grads[name]\n",
    "                \n",
    "    def rg(self, layer):\n",
    "        if len(layer.params) == 0 or layer.rg == 0 or layer.rg_type == None:\n",
    "            return 0\n",
    "        elif layer.rg_type.upper() == 'L2':\n",
    "            W = layer.params['W']\n",
    "            return layer.rg * np.sum(np.square(W))\n",
    "        return 0"
   ]
  },
  {
   "cell_type": "markdown",
   "id": "e2026893-6d08-4e95-88e3-0e0e88920b4b",
   "metadata": {},
   "source": [
    "# Batch class"
   ]
  },
  {
   "cell_type": "code",
   "execution_count": null,
   "id": "cf4c873e-a8fb-4575-b690-4fa5c88dbbca",
   "metadata": {
    "jupyter": {
     "source_hidden": true
    },
    "tags": []
   },
   "outputs": [],
   "source": [
    "from collections import namedtuple\n",
    "\n",
    "Batch = namedtuple(\"Batch\", [\"x\", \"y\"])\n",
    "\n",
    "class DataIterator:\n",
    "    def __call__(self, x, y):\n",
    "        raise NotImplementedError\n",
    "\n",
    "class BatchIterator(DataIterator):\n",
    "    def __init__(self, size=None, shuffle=True):\n",
    "        self.size = size\n",
    "        self.shuffle = shuffle\n",
    "        \n",
    "    def __call__(self, x, y):\n",
    "        lenX = x.shape[1]\n",
    "        if self.size == None or self.size > lenX:\n",
    "            yield Batch(x, y)\n",
    "        else :\n",
    "            if self.shuffle:\n",
    "                idx = np.random.permutation((lenX))\n",
    "            for start in range(0, lenX - self.size + 1, self.size):\n",
    "                if self.shuffle:\n",
    "                    batch = idx[start:start + self.size]\n",
    "                else:\n",
    "                    batch = slice(start, start + self.size)\n",
    "                yield Batch(x[:, batch], y[:, batch])\n",
    "            \n",
    "    def shuffle(self, x, y):\n",
    "        starts = np.arange(0, x.shape[1], self.size)\n",
    "        if self.shuffle:\n",
    "            np.random.shuffle(starts)\n",
    "        for start in starts:\n",
    "            end = start + self.size\n",
    "            yield Batch(x[:, start:end], y[:, start:end])"
   ]
  },
  {
   "cell_type": "markdown",
   "id": "71691971-efc8-46f1-9a1d-9385b1edf28f",
   "metadata": {},
   "source": [
    "# Network class"
   ]
  },
  {
   "cell_type": "code",
   "execution_count": null,
   "id": "707aa04c",
   "metadata": {
    "jupyter": {
     "source_hidden": true
    },
    "tags": []
   },
   "outputs": [],
   "source": [
    "class Network:\n",
    "    def __init__(self, loss = LLayer(centropy, centropy_prime), optimiser = SGD(), iterator = BatchIterator()):\n",
    "        self.layers = []\n",
    "        self.loss = loss\n",
    "        self.optimiser = optimiser\n",
    "        self.iterator = iterator\n",
    "        self.epoch_loss = []\n",
    "        self.epoch_acc = []\n",
    "        \n",
    "    def add(self, layer):\n",
    "        self.layers.append(layer)\n",
    "\n",
    "    def forward(self, output):\n",
    "        for layer in self.layers:\n",
    "            output = layer.forward(output)\n",
    "        return output\n",
    "    \n",
    "    def backward(self, grad):\n",
    "        for layer in reversed(self.layers):\n",
    "            grad = layer.backward(grad)\n",
    "        return grad\n",
    "    \n",
    "    def update_lr(self, epoch, epochs):\n",
    "        for layer in self.layers:\n",
    "            self.optimiser.lr(layer, epoch, epochs)\n",
    "    \n",
    "    def rg_loss(self):\n",
    "        rg_loss = 0.0\n",
    "        for layer in self.layers:\n",
    "            rg_loss += self.optimiser.rg(layer)\n",
    "        return rg_loss\n",
    "    \n",
    "    def update_weights(self):\n",
    "        for layer in self.layers:\n",
    "            self.optimiser.step(layer)\n",
    "        \n",
    "    def predict(self, x):\n",
    "        scores = self.forward(x)\n",
    "        return np.argmax(scores, axis=0)\n",
    "        \n",
    "    def accuracy(self, x, y):\n",
    "        y_pred = self.predict(x)\n",
    "        return np.mean(y_pred == y)\n",
    "    \n",
    "    def boundary_plot(self, x, y, h=.02):\n",
    "        x_min, x_max = x[0, :].min() - .1, x[0, :].max() + .1\n",
    "        y_min, y_max = x[1, :].min() - .1, x[1, :].max() + .1\n",
    "        xx, yy = np.meshgrid(np.arange(x_min, x_max, h), np.arange(y_min, y_max, h))\n",
    "        x_grid = np.c_[xx.ravel(), yy.ravel()].T\n",
    "        Z = self.predict(x_grid)\n",
    "        Z = Z.reshape(xx.shape)\n",
    "        fig = plt.figure(figsize=(6.7,5))\n",
    "        plt.contourf(xx, yy, Z, cmap=plt.cm.Spectral, alpha=0.6)\n",
    "        plt.scatter(x[0, :], x[1, :], c=y, s=40, cmap=plt.cm.Spectral)\n",
    "        plt.title('Decision boundary')\n",
    "        plt.xlim(xx.min(), xx.max())\n",
    "        plt.ylim(yy.min(), yy.max())\n",
    "        \n",
    "    def performance_plot(self):\n",
    "        fig, axs = plt.subplots(figsize=(12,4), nrows=1, ncols=2, sharex=True, constrained_layout=True)\n",
    "        ax = axs[0]\n",
    "        ax.plot(self.epoch_loss)\n",
    "        ax.set_title('Loss')\n",
    "        ax = axs[1]\n",
    "        ax.plot(self.epoch_acc, label='Acc')\n",
    "        ax.set_title('Accuracy')\n",
    "        ax.set_ylim([0, 1])\n",
    "        plt.show()\n",
    "        \n",
    "    def fit(self, x_train, y_train, epochs, verbose=1):\n",
    "        for epoch in range(epochs):\n",
    "            epoch_loss = 0.0\n",
    "            epoch_rg_loss = 0.0\n",
    "            epoch_acc = 0.0\n",
    "            for k, batch in enumerate(self.iterator(x_train, y_train)):\n",
    "                y_pred = self.forward(batch.x)\n",
    "                epoch_loss += np.sum(self.loss.forward(y_pred, batch.y))\n",
    "                epoch_rg_loss += self.rg_loss()\n",
    "                epoch_acc = 1/(k+1) * (np.mean(np.argmax(y_pred, axis=0) == np.argmax(batch.y, axis=0)) + epoch_acc * k)\n",
    "                grad = self.loss.backward(y_pred, batch.y) / y_pred.shape[1]            \n",
    "                grad = self.backward(grad)\n",
    "                self.update_weights()\n",
    "            \n",
    "            self.update_lr(epoch, epochs)\n",
    "            \n",
    "            epoch_loss /= y_train.shape[1]\n",
    "            epoch_loss += epoch_rg_loss / (2 * y_train.shape[1])\n",
    "            self.epoch_loss.append(epoch_loss)\n",
    "            self.epoch_acc.append(epoch_acc)\n",
    "        \n",
    "            if verbose > 1 or (verbose == 1 and epoch % (epochs/10) == 0):\n",
    "                print('epoch %5.d/%d   loss: %.3f, acc: %.3f, lr: %.4f, rg: %.4f' % (epoch, epochs, epoch_loss, epoch_acc, self.layers[0].lr, self.layers[0].rg))"
   ]
  },
  {
   "cell_type": "markdown",
   "id": "e40a3e6e-7454-48f4-9836-77ed6b418484",
   "metadata": {
    "tags": []
   },
   "source": [
    "# (1) Simulation 3 classes and 2 dimensions random data with 1 HL (Perceptron) and 2 HL (MLP)"
   ]
  },
  {
   "cell_type": "code",
   "execution_count": null,
   "id": "7bb8405a-601f-4514-81b8-88afe3a3e60f",
   "metadata": {},
   "outputs": [],
   "source": [
    "# Generate data samples\n",
    "\n",
    "np.random.seed(0)\n",
    "N = 100 # number of points per class\n",
    "D = 2 # dimensionality\n",
    "K = 3 # number of classes\n",
    "X = np.zeros((N*K,D))\n",
    "y = np.zeros(N*K, dtype='uint8')\n",
    "for j in range(K):\n",
    "  ix = range(N*j,N*(j+1))\n",
    "  r = np.linspace(0.0,1,N) # radius\n",
    "  t = np.linspace(j*4,(j+1)*4,N) + np.random.randn(N)*0.2 # theta\n",
    "  X[ix] = np.c_[r*np.sin(t), r*np.cos(t)]\n",
    "  y[ix] = j\n",
    "\n",
    "x_train = X.T\n",
    "y_train = one_hot(y)\n",
    "y_train = y_train.T"
   ]
  },
  {
   "cell_type": "code",
   "execution_count": null,
   "id": "d6bd8650",
   "metadata": {},
   "outputs": [],
   "source": [
    "# 1 HL\n",
    "\n",
    "nn = Network(loss = LLayer(centropy, centropy_prime), optimiser = SGD(), iterator = BatchIterator(size=64))\n",
    "nn.add(ZLayer(2, 3, wInit='Xavier', lr_type='exp'))\n",
    "nn.add(SLayer(softmax, softmax_prime))\n",
    "\n",
    "nn.fit(x_train, y_train, 100, 1)\n",
    "\n",
    "print('training accuracy: %.2f' % nn.accuracy(x_train, y))\n",
    "nn.performance_plot()\n",
    "nn.boundary_plot(x_train, y)"
   ]
  },
  {
   "cell_type": "code",
   "execution_count": null,
   "id": "ac303747-4f35-4d5e-9e13-b4cd2a1cabac",
   "metadata": {},
   "outputs": [],
   "source": [
    "# 2 HL\n",
    "\n",
    "nn = Network(loss = LLayer(centropy, centropy_prime), optimiser = SGD(), iterator = BatchIterator(size=64))\n",
    "nn.add(ZLayer(2, 100, wInit='He', lr_type='step', rg=.7, rg_type='L2'))\n",
    "nn.add(ALayer(relu, relu_prime))\n",
    "nn.add(ZLayer(100, 3))\n",
    "nn.add(SLayer(softmax, softmax_prime))\n",
    "\n",
    "nn.fit(x_train, y_train, 5_000, 1)\n",
    "\n",
    "print('training accuracy: %.3f' % nn.accuracy(x_train, y))\n",
    "nn.performance_plot()\n",
    "nn.boundary_plot(x_train, y)"
   ]
  },
  {
   "cell_type": "markdown",
   "id": "45371783-0a1e-4ebd-bb12-819d914b6498",
   "metadata": {},
   "source": [
    "# (2) Simulation XOR gate with 1 hidden layer"
   ]
  },
  {
   "cell_type": "code",
   "execution_count": null,
   "id": "c91184b3-73de-4404-ab10-e4c6d7a4ac4d",
   "metadata": {},
   "outputs": [],
   "source": [
    "np.set_printoptions(precision=4)\n",
    "\n",
    "x_train = np.array([ [0, 0], [1, 0], [0, 1], [1, 1] ]).T\n",
    "y = np.array([0,1,1,0])\n",
    "y_train = one_hot(y).T\n",
    "\n",
    "nn = Network(loss = LLayer(mse, mse_prime), optimiser = SGD())\n",
    "nn.add(ZLayer(2, 2, eps_W=1.0, eps_B=1.0))\n",
    "nn.add(ALayer(tanh, tanh_prime))\n",
    "nn.add(ZLayer(2, 2, eps_W=1.0, eps_B=1.0))\n",
    "\n",
    "nn.fit(x_train, y_train, 5_000, 1)\n",
    "\n",
    "print('\\ntraining accuracy: %.3f' % nn.accuracy(x_train, y))\n",
    "nn.performance_plot()\n",
    "nn.boundary_plot(x_train, y)\n",
    "\n",
    "print('\\nXtrain\\tYpred\\t\\t\\tYtrain')\n",
    "predicted = nn.forward(x_train)\n",
    "predicted_01 = np.argmax(predicted, axis=0)\n",
    "for i in range(x_train.shape[1]):\n",
    "    print(x_train[:,i].T, '\\t', predicted[:,i].T, predicted_01[i], '\\t', y_train[:,i].T, y[i])"
   ]
  },
  {
   "cell_type": "markdown",
   "id": "e3478eb5-754c-4c12-ac58-946cae5b8e84",
   "metadata": {},
   "source": [
    "# (3) Simulation sensitivy of hidden layer size "
   ]
  },
  {
   "cell_type": "code",
   "execution_count": null,
   "id": "74712d8f-be03-43a9-9fff-fa57bb073dfd",
   "metadata": {},
   "outputs": [],
   "source": [
    "# Generate data samples\n",
    "\n",
    "import sklearn.datasets\n",
    "np.random.seed(0)\n",
    "X, y = sklearn.datasets.make_moons(200, noise=.2)\n",
    "fig = plt.figure(figsize=(6.7,5))\n",
    "plt.scatter(X[:,0], X[:, 1], s=40, c=y, cmap=plt.cm.Spectral)\n",
    "\n",
    "x_train = X.T\n",
    "y_train = one_hot(y)\n",
    "y_train = y_train.T"
   ]
  },
  {
   "cell_type": "code",
   "execution_count": null,
   "id": "b17f538d-7654-4332-beba-2df39bbb3a8e",
   "metadata": {},
   "outputs": [],
   "source": [
    "for n in [1, 3, 10, 50]:\n",
    "    nn = Network(loss = LLayer(centropy, centropy_prime), optimiser = SGD(), iterator = BatchIterator(size=64))\n",
    "    nn.add(ZLayer(2, n, eps_W=1/np.sqrt(2)))\n",
    "    nn.add(ALayer(tanh, tanh_prime))\n",
    "    nn.add(ZLayer(n, 2, eps_W=1/np.sqrt(n)))\n",
    "    nn.add(SLayer(softmax, softmax_prime))\n",
    "\n",
    "    nn.fit(x_train, y_train, 10_000, 0)\n",
    "\n",
    "    print('training accuracy: %.3f' % nn.accuracy(x_train, y))\n",
    "    nn.performance_plot()\n",
    "    nn.boundary_plot(x_train, y)\n",
    "print('done.')"
   ]
  },
  {
   "cell_type": "markdown",
   "id": "d87ad556-071c-429d-9451-63b49381bfbd",
   "metadata": {},
   "source": [
    "# (4) Neural network data points belonging to three classes\n",
    "### https://www.cristiandima.com/neural-networks-from-scratch-in-python"
   ]
  },
  {
   "cell_type": "code",
   "execution_count": null,
   "id": "a5cabd40-167b-4ef2-9334-d610b220f3a5",
   "metadata": {},
   "outputs": [],
   "source": [
    "np.random.seed(1)\n",
    "\n",
    "# generate three Gaussian clouds each holding 500 points\n",
    "X1 = np.random.randn(500, 2) + np.array([0, -2])\n",
    "X2 = np.random.randn(500, 2) + np.array([2, 2])\n",
    "X3 = np.random.randn(500, 2) + np.array([-2, 2])\n",
    "\n",
    "# put them all in a big matrix\n",
    "X = np.vstack([X1, X2, X3])\n",
    "\n",
    "# generate the one-hot-encodings\n",
    "labels = np.array([0]*500 + [1]*500 + [2]*500)\n",
    "T = np.zeros((1500, 3))\n",
    "for i in range(1500):\n",
    "    T[i, labels[i]] = 1\n",
    "\n",
    "# visualize the data\n",
    "fig = plt.figure(figsize=(6.7,5))\n",
    "plt.scatter(X[:,0], X[:,1], c=labels, s=100, cmap=plt.cm.Spectral, alpha=0.5)\n",
    "plt.show()\n",
    "\n",
    "x_train = X.T\n",
    "y_train = T.T"
   ]
  },
  {
   "cell_type": "code",
   "execution_count": null,
   "id": "7ab93f94-7715-449e-bfdb-0190054cf57b",
   "metadata": {},
   "outputs": [],
   "source": [
    "nn = Network(loss = LLayer(centropy, centropy_prime), optimiser = SGD(alpha=1e-2), iterator = BatchIterator(size=None))\n",
    "nn.add(ZLayer(2, 5))\n",
    "nn.add(ALayer(tanh, tanh_prime))\n",
    "nn.add(ZLayer(5, 3))\n",
    "nn.add(SLayer(softmax, softmax_prime))\n",
    "\n",
    "nn.fit(x_train, y_train, 5_000, 1)\n",
    "\n",
    "print('training accuracy: %.3f' % nn.accuracy(x_train, labels))\n",
    "nn.performance_plot()\n",
    "nn.boundary_plot(x_train, labels)"
   ]
  },
  {
   "cell_type": "markdown",
   "id": "50205243-8ef4-4baf-a93e-b06d9cf4f581",
   "metadata": {},
   "source": [
    "# (5) L2 regularization\n",
    "### https://github.com/Coding-Lane/L2-Regularization"
   ]
  },
  {
   "cell_type": "code",
   "execution_count": null,
   "id": "2f06ed48-7006-4bb6-88a7-cd483b905d1e",
   "metadata": {
    "tags": []
   },
   "outputs": [],
   "source": [
    "x_train = np.loadtxt('data/train_x.csv', delimiter = ',')\n",
    "y = np.loadtxt('data/train_y.csv', delimiter = ',').reshape(1, x_train.shape[1])\n",
    "y = y.reshape(y.shape[1]).astype(int)\n",
    "y_train = one_hot(y).T\n",
    "#y_train = y\n",
    "print(\"Shape of train_X : \", x_train.shape)\n",
    "print(\"Shape of train_Y : \", y_train.shape)\n",
    "np.set_printoptions(precision=4)\n",
    "\n",
    "nn = Network(loss = LLayer(centropy, centropy_prime))\n",
    "nn.add(ZLayer(2, 100, wInit='He', lr=.3, seed=3))\n",
    "nn.add(ALayer(relu, relu_prime))\n",
    "nn.add(ZLayer(100, 10, wInit='He', lr=.3, seed=3))\n",
    "nn.add(ALayer(relu, relu_prime))\n",
    "nn.add(ZLayer(10, 2, wInit='He', lr=.3, seed=3))\n",
    "nn.add(SLayer(softmax, softmax_prime))\n",
    "\n",
    "nn.fit(x_train, y_train, 10_000, 1)\n",
    "\n",
    "print('training accuracy: %.3f' % nn.accuracy(x_train, y))\n",
    "nn.performance_plot()\n",
    "nn.boundary_plot(x_train, y)"
   ]
  },
  {
   "cell_type": "code",
   "execution_count": null,
   "id": "077f3183-800c-49d8-8f74-5eb9086a6c77",
   "metadata": {},
   "outputs": [],
   "source": [
    "\n",
    "nn = Network(loss = LLayer(centropy, centropy_prime))\n",
    "nn.add(ZLayer(2, 100, wInit='He', lr=.3, seed=3, rg=.7))\n",
    "nn.add(ALayer(relu, relu_prime))\n",
    "nn.add(ZLayer(100, 10, wInit='He', lr=.3, seed=3, rg=.7))\n",
    "nn.add(ALayer(relu, relu_prime))\n",
    "nn.add(ZLayer(10, 2, wInit='He', lr=.3, seed=3, rg=.7))\n",
    "nn.add(SLayer(softmax, softmax_prime))\n",
    "\n",
    "nn.fit(x_train, y_train, 10_000, 1)\n",
    "\n",
    "print('training accuracy: %.3f' % nn.accuracy(x_train, y))\n",
    "nn.performance_plot()\n",
    "nn.boundary_plot(x_train, y)"
   ]
  },
  {
   "cell_type": "code",
   "execution_count": null,
   "id": "d2774be1-bf7c-40d3-9e04-590cdba07f49",
   "metadata": {},
   "outputs": [],
   "source": [
    "import import_ipynb"
   ]
  },
  {
   "cell_type": "code",
   "execution_count": null,
   "id": "f3de909d-6d8d-4829-85a9-4ceaefa437eb",
   "metadata": {},
   "outputs": [],
   "source": []
  }
 ],
 "metadata": {
  "kernelspec": {
   "display_name": "Python3 (tmp)",
   "language": "python",
   "name": "tmp_env"
  },
  "language_info": {
   "codemirror_mode": {
    "name": "ipython",
    "version": 3
   },
   "file_extension": ".py",
   "mimetype": "text/x-python",
   "name": "python",
   "nbconvert_exporter": "python",
   "pygments_lexer": "ipython3",
   "version": "3.11.0"
  },
  "toc-autonumbering": false,
  "toc-showmarkdowntxt": false,
  "toc-showtags": false
 },
 "nbformat": 4,
 "nbformat_minor": 5
}
